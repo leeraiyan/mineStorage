{
 "cells": [
  {
   "cell_type": "code",
   "execution_count": null,
   "metadata": {},
   "outputs": [],
   "source": [
    "from pulp import *\n",
    "\n",
    "# Define the problem as a maximization problem\n",
    "prob = LpProblem(\"HPP_Optimization\", LpMaximize)\n",
    "\n",
    "# Define the decision variables\n",
    "P_HPP = LpVariable(\"P_HPP\", lowBound=0, cat='Continuous') \n",
    "P_BESS = LpVariable(\"P_BESS\", cat='Continuous') \n",
    "\n",
    "# Define the objective function\n",
    "prob += lpSum([\n",
    "    (EPT * (P_HPP - P_BESS) * delta_t - AST * max(F_HPP - P_HPP + P_BESS, 0) * delta_t\n",
    "     - CO_M_PV * P_PV_c - CO_M_wind * P_wind_c - CO_M_BESS * abs(P_BESS))\n",
    "    for EPT, delta_t, AST, F_HPP, CO_M_PV, CO_M_wind, CO_M_BESS, P_PV_c, P_wind_c in zip(\n",
    "        EPT_list, delta_t_list, AST_list, F_HPP_list, CO_M_PV_list, CO_M_wind_list, CO_M_BESS_list, P_PV_c_list, P_wind_c_list)\n",
    "]) \n",
    "\n",
    "# Define the constraints\n",
    "prob += P_HPP <= P_HPP_max\n",
    "prob += P_BESS <= P_BESS_max\n",
    "prob += P_BESS >= -P_BESS_max\n",
    "prob += P_BESS <= P_BESS_cap * BESS_SOC\n",
    "prob += P_BESS >= -P_BESS_cap * BESS_SOC\n",
    "prob += BESS_SOC <= BESS_SOC_max\n",
    "prob += BESS_SOC >= BESS_SOC_min\n",
    "prob += lpSum(P_PV) <= P_PV_total\n",
    "prob += lpSum(P_wind) <= P_wind_total\n",
    "\n",
    "# Solve the problem\n",
    "prob.solve()\n",
    "\n",
    "# Print the solution status and optimal objective value\n",
    "print(\"Status:\", LpStatus[prob.status])\n",
    "print(\"Optimal Objective Value:\", value(prob.objective))\n",
    "\n",
    "# Print the optimal decision variables\n",
    "for v in prob.variables():\n",
    "    print(v.name, \"=\", v.varValue)\n"
   ]
  },
  {
   "attachments": {},
   "cell_type": "markdown",
   "metadata": {},
   "source": [
    "Note that you need to define the values for the decision variables and constraints as input parameters to the optimization problem. I have assumed that these values are stored in the following lists:\n",
    "\n",
    "    EPT_list: a list of electricity prices\n",
    "    delta_t_list: a list of time intervals\n",
    "    AST_list: a list of ancillary service prices\n",
    "    F_HPP_list: a list of forecasted power generations of HPP\n",
    "    CO_M_PV_list: a list of operation and maintenance costs for PV arrays\n",
    "    CO_M_wind_list: a list of operation and maintenance costs for wind turbines\n",
    "    CO_M_BESS_list: a list of operation and maintenance costs for BESS\n",
    "    P_PV_c_list: a list of power capacities of PV arrays\n",
    "    P_wind_c_list: a list of power capacities of wind turbines\n",
    "    P_HPP_max: the maximum power generation of HPP\n",
    "    P_BESS_max: the maximum power output of BESS\n",
    "    P_BESS_cap: the maximum capacity of BESS\n",
    "    BESS_SOC: the state of charge of BESS\n",
    "    BESS_SOC_max: the maximum state of charge of BESS\n",
    "    BESS_SOC_min: the minimum state of charge of BESS\n",
    "    P_PV_total: the total power capacity of PV arrays\n",
    "    P_wind_total: the total power capacity of wind turbines"
   ]
  },
  {
   "attachments": {},
   "cell_type": "markdown",
   "metadata": {},
   "source": [
    "Random Valuess"
   ]
  },
  {
   "cell_type": "code",
   "execution_count": 2,
   "metadata": {},
   "outputs": [
    {
     "ename": "TypeError",
     "evalue": "'>' not supported between instances of 'int' and 'LpAffineExpression'",
     "output_type": "error",
     "traceback": [
      "\u001b[1;31m---------------------------------------------------------------------------\u001b[0m",
      "\u001b[1;31mTypeError\u001b[0m                                 Traceback (most recent call last)",
      "\u001b[1;32m~\\AppData\\Local\\Temp/ipykernel_16880/1023606834.py\u001b[0m in \u001b[0;36m<module>\u001b[1;34m\u001b[0m\n\u001b[0;32m     13\u001b[0m \u001b[1;31m# Define the objective function\u001b[0m\u001b[1;33m\u001b[0m\u001b[1;33m\u001b[0m\u001b[0m\n\u001b[0;32m     14\u001b[0m prob += lpSum([\n\u001b[1;32m---> 15\u001b[1;33m     (2 * (P_HPP - P_BESS) * 0.5 - 1 * max(3 - P_HPP + P_BESS, 0) * 0.5\n\u001b[0m\u001b[0;32m     16\u001b[0m      - 0.01 * 100 - 0.02 * 200 - 0.03 * abs(P_BESS))\n\u001b[0;32m     17\u001b[0m ])\n",
      "\u001b[1;31mTypeError\u001b[0m: '>' not supported between instances of 'int' and 'LpAffineExpression'"
     ]
    }
   ],
   "source": [
    "from pulp import *\n",
    "\n",
    "# Define the decision variables\n",
    "P_HPP = LpVariable(\"P_HPP\", lowBound=0, cat='Continuous')\n",
    "P_BESS = LpVariable(\"P_BESS\", cat='Continuous')\n",
    "BESS_SOC = LpVariable(\"BESS_SOC\", lowBound=0, upBound=1, cat='Continuous')\n",
    "P_PV = [2, 3, 4]\n",
    "P_wind = [1, 2, 3]\n",
    "\n",
    "# Define the optimization problem as a maximization problem\n",
    "prob = LpProblem(\"HPP_Optimization\", LpMaximize)\n",
    "\n",
    "# Define the objective function\n",
    "prob += lpSum([\n",
    "    (2 * (P_HPP - P_BESS) * 0.5 - 1 * max(3 - P_HPP + P_BESS, 0) * 0.5\n",
    "     - 0.01 * 100 - 0.02 * 200 - 0.03 * abs(P_BESS))\n",
    "])\n",
    "\n",
    "# Define the constraints\n",
    "prob += P_HPP <= 10\n",
    "prob += P_BESS <= 5\n",
    "prob += P_BESS >= -5\n",
    "prob += P_BESS <= 3 * BESS_SOC\n",
    "prob += P_BESS >= -3 * BESS_SOC\n",
    "prob += BESS_SOC <= 1\n",
    "prob += BESS_SOC >= 0\n",
    "prob += lpSum(P_PV) <= 15\n",
    "prob += lpSum(P_wind) <= 10\n",
    "\n",
    "# Solve the problem\n",
    "prob.solve()\n",
    "\n",
    "# Print the solution status and optimal objective value\n",
    "print(\"Status:\", LpStatus[prob.status])\n",
    "print(\"Optimal Objective Value:\", value(prob.objective))\n",
    "\n",
    "# Print the optimal decision variables\n",
    "for v in prob.variables():\n",
    "    print(v.name, \"=\", v.varValue)\n"
   ]
  }
 ],
 "metadata": {
  "kernelspec": {
   "display_name": "base",
   "language": "python",
   "name": "python3"
  },
  "language_info": {
   "codemirror_mode": {
    "name": "ipython",
    "version": 3
   },
   "file_extension": ".py",
   "mimetype": "text/x-python",
   "name": "python",
   "nbconvert_exporter": "python",
   "pygments_lexer": "ipython3",
   "version": "3.9.7"
  },
  "orig_nbformat": 4
 },
 "nbformat": 4,
 "nbformat_minor": 2
}

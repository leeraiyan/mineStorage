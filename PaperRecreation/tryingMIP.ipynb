{
 "cells": [
  {
   "cell_type": "code",
   "execution_count": 1,
   "metadata": {},
   "outputs": [
    {
     "name": "stdout",
     "output_type": "stream",
     "text": [
      "selected items: [0, 3]\n"
     ]
    }
   ],
   "source": [
    "from mip import Model, xsum, maximize, BINARY\n",
    "\n",
    "p = [10, 13, 18, 31, 7, 15]\n",
    "w = [11, 15, 20, 35, 10, 33]\n",
    "c, I = 47, range(len(w))\n",
    "\n",
    "m = Model(\"knapsack\")\n",
    "\n",
    "x = [m.add_var(var_type=BINARY) for i in I]\n",
    "\n",
    "m.objective = maximize(xsum(p[i] * x[i] for i in I))\n",
    "\n",
    "m += xsum(w[i] * x[i] for i in I) <= c\n",
    "\n",
    "m.optimize()\n",
    "\n",
    "selected = [i for i in I if x[i].x >= 0.99]\n",
    "print(\"selected items: {}\".format(selected))"
   ]
  },
  {
   "attachments": {},
   "cell_type": "markdown",
   "metadata": {},
   "source": [
    "Simple Time-Series Example with Binary Decision Variables"
   ]
  },
  {
   "cell_type": "code",
   "execution_count": 2,
   "metadata": {},
   "outputs": [
    {
     "name": "stdout",
     "output_type": "stream",
     "text": [
      "Revenue: $650.0\n",
      "Selected time periods: [1, 2, 3, 4, 5]\n"
     ]
    }
   ],
   "source": [
    "from mip import Model, xsum, maximize, BINARY\n",
    "\n",
    "# Example time series data\n",
    "revenues = [100, 150, 200, 250, 300]\n",
    "costs = [50, 60, 70, 80, 90]\n",
    "budgets = [200, 250, 300, 350, 400]\n",
    "\n",
    "# Create a new MIP model\n",
    "m = Model(\"revenue_optimization\")\n",
    "\n",
    "# Define decision variables\n",
    "T = len(revenues)  # number of time periods\n",
    "x = [m.add_var(var_type=BINARY) for t in range(T)]\n",
    "\n",
    "# Set objective function to maximize revenue\n",
    "m.objective = maximize(xsum(revenues[t] * x[t] - costs[t] * x[t] for t in range(T)))\n",
    "\n",
    "# Add budget constraint for each time period\n",
    "for t in range(T):\n",
    "    m += xsum(costs[i] * x[i] for i in range(t+1)) <= budgets[t]\n",
    "\n",
    "# Solve the optimization problem\n",
    "m.optimize()\n",
    "\n",
    "# Print the solution\n",
    "print(\"Revenue: ${}\".format(m.objective_value))\n",
    "print(\"Selected time periods: {}\".format([t+1 for t in range(T) if x[t].x >= 0.99]))\n"
   ]
  },
  {
   "attachments": {},
   "cell_type": "markdown",
   "metadata": {},
   "source": [
    "Simple Time-Series Example with Non-Binary Decision Variables"
   ]
  },
  {
   "cell_type": "code",
   "execution_count": 9,
   "metadata": {},
   "outputs": [
    {
     "name": "stdout",
     "output_type": "stream",
     "text": [
      "route with total distance 547 found: Antwerp -> Mechelen -> Leuven -> Hasselt -> C-Mine -> Montagne de Bueren -> Remouchamps -> Dinant -> Namur -> Mons -> Waterloo -> Grand-Place de Bruxelles -> Ghent -> Bruges -> Antwerp\n"
     ]
    }
   ],
   "source": [
    "from itertools import product\n",
    "from sys import stdout as out\n",
    "from mip import Model, xsum, minimize, BINARY\n",
    "\n",
    "# names of places to visit\n",
    "places = ['Antwerp', 'Bruges', 'C-Mine', 'Dinant', 'Ghent',\n",
    "          'Grand-Place de Bruxelles', 'Hasselt', 'Leuven',\n",
    "          'Mechelen', 'Mons', 'Montagne de Bueren', 'Namur',\n",
    "          'Remouchamps', 'Waterloo']\n",
    "\n",
    "# distances in an upper triangular matrix\n",
    "dists = [[83, 81, 113, 52, 42, 73, 44, 23, 91, 105, 90, 124, 57],\n",
    "         [161, 160, 39, 89, 151, 110, 90, 99, 177, 143, 193, 100],\n",
    "         [90, 125, 82, 13, 57, 71, 123, 38, 72, 59, 82],\n",
    "         [123, 77, 81, 71, 91, 72, 64, 24, 62, 63],\n",
    "         [51, 114, 72, 54, 69, 139, 105, 155, 62],\n",
    "         [70, 25, 22, 52, 90, 56, 105, 16],\n",
    "         [45, 61, 111, 36, 61, 57, 70],\n",
    "         [23, 71, 67, 48, 85, 29],\n",
    "         [74, 89, 69, 107, 36],\n",
    "         [117, 65, 125, 43],\n",
    "         [54, 22, 84],\n",
    "         [60, 44],\n",
    "         [97],\n",
    "         []]\n",
    "\n",
    "# number of nodes and list of vertices\n",
    "n, V = len(dists), set(range(len(dists)))\n",
    "\n",
    "# distances matrix\n",
    "c = [[0 if i == j\n",
    "      else dists[i][j-i-1] if j > i\n",
    "      else dists[j][i-j-1]\n",
    "      for j in V] for i in V]\n",
    "\n",
    "model = Model()\n",
    "\n",
    "# binary variables indicating if arc (i,j) is used on the route or not\n",
    "x = [[model.add_var(var_type=BINARY) for j in V] for i in V]\n",
    "\n",
    "# continuous variable to prevent subtours: each city will have a\n",
    "# different sequential id in the planned route except the first one\n",
    "y = [model.add_var() for i in V]\n",
    "\n",
    "# objective function: minimize the distance\n",
    "model.objective = minimize(xsum(c[i][j]*x[i][j] for i in V for j in V))\n",
    "\n",
    "# constraint : leave each city only once\n",
    "for i in V:\n",
    "    model += xsum(x[i][j] for j in V - {i}) == 1\n",
    "\n",
    "# constraint : enter each city only once\n",
    "for i in V:\n",
    "    model += xsum(x[j][i] for j in V - {i}) == 1\n",
    "\n",
    "# subtour elimination\n",
    "for (i, j) in product(V - {0}, V - {0}):\n",
    "    if i != j:\n",
    "        model += y[i] - (n+1)*x[i][j] >= y[j]-n\n",
    "\n",
    "# optimizing\n",
    "model.optimize()\n",
    "\n",
    "# checking if a solution was found\n",
    "if model.num_solutions:\n",
    "    out.write('route with total distance %g found: %s'\n",
    "              % (model.objective_value, places[0]))\n",
    "    nc = 0\n",
    "    while True:\n",
    "        nc = [i for i in V if x[nc][i].x >= 0.99][0]\n",
    "        out.write(' -> %s' % places[nc])\n",
    "        if nc == 0:\n",
    "            break\n",
    "    out.write('\\n')"
   ]
  },
  {
   "cell_type": "code",
   "execution_count": 2,
   "metadata": {},
   "outputs": [
    {
     "name": "stdout",
     "output_type": "stream",
     "text": [
      "No optimal solution found.\n"
     ]
    }
   ],
   "source": [
    "from mip import Model, xsum, maximize, BINARY\n",
    "\n",
    "# Define parameters\n",
    "capacity = 10000  # Battery capacity in MWh\n",
    "wind_energy = [4, 4, 4, 4, 4, 4, 4, 4, 4, 4, 4, 4, 4, 4, 4, 4, 4, 4, 4, 4, 4, 4, 4, 4]  # Wind energy in MW\n",
    "day_prices = [10, 20, 30, 40, 50, 60, 70, 80, 90, 100, 90, 80, 70, 60, 50, 40, 30, 20, 10, 5, 5, 5, 5, 5]  # Day-ahead prices in EUR/MWh\n",
    "bal_prices = [20, 30, 40, 50, 60, 70, 80, 90, 100, 110, 100, 90, 80, 70, 60, 50, 40, 30, 20, 10, 5, 5, 5, 5]  # Balancing prices in EUR/MWh\n",
    "\n",
    "# Create model\n",
    "model = Model()\n",
    "\n",
    "# Define decision variables\n",
    "E_day = [model.add_var() for t in range(24)]\n",
    "\n",
    "# Define objective function\n",
    "obj = xsum(day_prices[t] * E_day[t] for t in range(24))\n",
    "model.objective = maximize(obj)\n",
    "\n",
    "# Add capacity constraints\n",
    "for t in range(24):\n",
    "    model += xsum(wind_energy[t] - E_day[t] for t in range(24)) == 0\n",
    "\n",
    "for t in range(24):\n",
    "    model += (xsum(E_day[t] for t in range(24)) <= 100)\n",
    "\n",
    "# for t in range(24):   \n",
    "    # model += xsum(E_bal[t] for t in range(24)) <= 100\n",
    "\n",
    "# Add operational constraints\n",
    "# model.add_constr(xsum(wind_energy[t] - E_day[t] - E_bal[t] for t in range(24)) == capacity)\n",
    "# model.add_constr(xsum(E_day[t] + E_bal[t] - wind_energy[t] for t in range(24)) == capacity)\n",
    "\n",
    "# Solve model\n",
    "model.optimize()\n",
    "\n",
    "# Print solution\n",
    "if model.status == 1:\n",
    "    print(f\"Optimal solution found: revenue = {model.objective_value:.2f} EUR\")\n",
    "    for t in range(24):\n",
    "        print(f\"Hour {t}: E_day = {E_day[t].x:.2f} MWh, E_bal = {E_bal[t].x:.2f} MWh\")\n",
    "else:\n",
    "    print(\"No optimal solution found.\")\n",
    "\n",
    "\n",
    "from mip import Model, xsum, maximize, BINARY\n",
    "\n",
    "# Example time series data\n",
    "revenues = [100, 150, 200, 250, 300]\n",
    "costs = [50, 60, 70, 80, 90]\n",
    "budgets = [200, 250, 300, 350, 400]\n",
    "\n",
    "# Create a new MIP model\n",
    "m = Model(\"revenue_optimization\")\n",
    "\n",
    "# Define decision variables\n",
    "T = len(revenues)  # number of time periods\n",
    "x = [m.add_var(var_type=BINARY) for t in range(T)]\n",
    "\n",
    "# Set objective function to maximize revenue\n",
    "m.objective = maximize(xsum(revenues[t] * x[t] - costs[t] * x[t] for t in range(T)))\n",
    "\n",
    "# Add budget constraint for each time period\n",
    "for t in range(T):\n",
    "    m += xsum(costs[i] * x[i] for i in range(t+1)) <= budgets[t]\n",
    "\n",
    "# Solve the optimization problem\n",
    "m.optimize()\n",
    "\n",
    "# Print the solution\n",
    "print(\"Revenue: ${}\".format(m.objective_value))\n",
    "print(\"Selected time periods: {}\".format([t+1 for t in range(T) if x[t].x >= 0.99]))\n",
    "\n"
   ]
  },
  {
   "cell_type": "code",
   "execution_count": 4,
   "metadata": {},
   "outputs": [
    {
     "name": "stdout",
     "output_type": "stream",
     "text": [
      "Number of units of A to produce:  None\n",
      "Number of units of B to produce:  None\n",
      "Maximum profit: $ None\n"
     ]
    }
   ],
   "source": [
    "# Import the MIP library\n",
    "from mip import Model, xsum, maximize, BINARY\n",
    "\n",
    "# Define the parameters\n",
    "profit = [10, 15]  # Profit per unit for A and B, respectively\n",
    "labor_req = [2, 3]  # Labor requirement per unit for A and B, respectively\n",
    "raw_mat_req = [1, 2]  # Raw material requirement per unit for A and B, respectively\n",
    "total_labor = 100  # Total labor available\n",
    "total_raw_mat = 80  # Total raw materials available\n",
    "demand = [20, 30]  # Minimum demand for A and B, respectively\n",
    "\n",
    "# Create the model\n",
    "m = Model()\n",
    "\n",
    "# Define the decision variables\n",
    "x = [m.add_var(var_type=BINARY) for i in range(2)]  # x[0] = number of units of A to produce, x[1] = number of units of B to produce\n",
    "\n",
    "# Define the objective function (maximize profit)\n",
    "m.objective = maximize(xsum(profit[i] * x[i] for i in range(2)))\n",
    "\n",
    "# Add the constraints\n",
    "m += xsum(labor_req[i] * x[i] for i in range(2)) <= total_labor  # Labor constraint\n",
    "m += xsum(raw_mat_req[i] * x[i] for i in range(2)) <= total_raw_mat  # Raw material constraint\n",
    "m += x[0] >= demand[0]  # Demand constraint for A\n",
    "m += x[1] >= demand[1]  # Demand constraint for B\n",
    "\n",
    "# Solve the model\n",
    "m.optimize()\n",
    "\n",
    "# Print the solution\n",
    "print(\"Number of units of A to produce: \", x[0].x)\n",
    "print(\"Number of units of B to produce: \", x[1].x)\n",
    "print(\"Maximum profit: $\", m.objective_value)\n"
   ]
  }
 ],
 "metadata": {
  "kernelspec": {
   "display_name": "base",
   "language": "python",
   "name": "python3"
  },
  "language_info": {
   "codemirror_mode": {
    "name": "ipython",
    "version": 3
   },
   "file_extension": ".py",
   "mimetype": "text/x-python",
   "name": "python",
   "nbconvert_exporter": "python",
   "pygments_lexer": "ipython3",
   "version": "3.9.7"
  },
  "orig_nbformat": 4
 },
 "nbformat": 4,
 "nbformat_minor": 2
}
